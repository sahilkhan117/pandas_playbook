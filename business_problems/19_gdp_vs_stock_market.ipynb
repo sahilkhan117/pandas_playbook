{
 "cells": [
  {
   "cell_type": "markdown",
   "id": "19",
   "metadata": {},
   "source": [
    "# 19. **`gdp_vs_stock_market.ipynb`**\n",
    "- **Problem**: Correlate India’s GDP with NIFTY-50 index performance.\n",
    "- **Datasets**: `world_gdp_data.csv`, `NIFTY50_all.csv`\n",
    "- **Tasks**: Filter India’s GDP, merge with NIFTY data, plot correlation.\n",
    "- **Skills**: Merging (`merge`), time-series, visualization.\n",
    "- **Output**: `data/processed/gdp_vs_stock_market/correlation_data.csv`, dual-axis plot PNG."
   ]
  }
 ],
 "metadata": {
  "language_info": {
   "name": "python"
  }
 },
 "nbformat": 4,
 "nbformat_minor": 5
}
