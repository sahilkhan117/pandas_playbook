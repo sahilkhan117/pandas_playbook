{
 "cells": [
  {
   "cell_type": "markdown",
   "id": "9",
   "metadata": {},
   "source": [
    "# 9. **`amazon_price_optimization.ipynb`**\n",
    "   - **Problem**: Identify Amazon products with high discounts but low ratings for pricing strategy.\n",
    "   - **Dataset**: `amazon.csv`\n",
    "   - **Tasks**: Filter by discount and rating thresholds, visualize with scatter plot.\n",
    "   - **Skills**: Filtering (`query`), visualization.\n",
    "   - **Output**: `data/processed/amazon_price_optimization/low_rated_products.csv`, scatter plot PNG."
   ]
  }
 ],
 "metadata": {
  "language_info": {
   "name": "python"
  }
 },
 "nbformat": 4,
 "nbformat_minor": 5
}