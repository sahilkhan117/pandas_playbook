{
 "cells": [
  {
   "cell_type": "markdown",
   "id": "15",
   "metadata": {},
   "source": [
    "# 15. **`portfolio_performance.ipynb`**\n",
    "    - **Problem**: Simulate a portfolio with equal weights for selected NIFTY-50 stocks.\n",
    "    - **Dataset**: `NIFTY50_all.csv`\n",
    "    - **Tasks**: Calculate weighted returns, plot cumulative returns.\n",
    "    - **Skills**: Merging, time-series, visualization.\n",
    "    - **Output**: `data/processed/portfolio_performance/portfolio_returns.csv`, line plot PNG."
   ]
  }
 ],
 "metadata": {
  "language_info": {
   "name": "python"
  }
 },
 "nbformat": 4,
 "nbformat_minor": 5
}