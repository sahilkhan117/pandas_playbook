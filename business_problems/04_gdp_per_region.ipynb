{
 "cells": [
  {
   "cell_type": "markdown",
   "id": "4",
   "metadata": {},
   "source": [
    "# 4. **`gdp_per_region.ipynb`**\n",
    "   - **Problem**: Aggregate GDP by region (e.g., Asia, Europe) to compare regional economic performance.\n",
    "   - **Dataset**: `world_gdp_data.csv`\n",
    "   - **Tasks**: Merge with external region mapping, group by region, plot regional trends.\n",
    "   - **Skills**: Merging (`merge`), grouping (`groupby`), visualization.\n",
    "   - **Output**: `../data/processed/gdp_per_region_regional_gdp.csv`, bar plot PNG."
   ]
  }
 ],
 "metadata": {
  "language_info": {
   "name": "python"
  }
 },
 "nbformat": 4,
 "nbformat_minor": 5
}
