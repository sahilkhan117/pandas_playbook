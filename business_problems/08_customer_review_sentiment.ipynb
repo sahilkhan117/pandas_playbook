{
 "cells": [
  {
   "cell_type": "markdown",
   "id": "8",
   "metadata": {},
   "source": [
    "# 8. **`customer_review_sentiment.ipynb`**\n",
    "   - **Problem**: Classify Amazon reviews as positive (rating ≥4) or negative (<4).\n",
    "   - **Dataset**: `amazon.csv`\n",
    "   - **Tasks**: Apply rating threshold, count sentiments, visualize with pie chart.\n",
    "   - **Skills**: Applying functions (`apply`), visualization.\n",
    "   - **Output**: `data/processed/customer_review_sentiment/sentiment_counts.csv`, pie chart PNG."
   ]
  }
 ],
 "metadata": {
  "language_info": {
   "name": "python"
  }
 },
 "nbformat": 4,
 "nbformat_minor": 5
}