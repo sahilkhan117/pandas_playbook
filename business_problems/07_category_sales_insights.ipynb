{
 "cells": [
  {
   "cell_type": "markdown",
   "id": "7",
   "metadata": {},
   "source": [
    "# 7. **`category_sales_insights.ipynb`**\n",
    "   - **Problem**: Compare sales performance across Amazon product categories.\n",
    "   - **Dataset**: `amazon.csv`\n",
    "   - **Tasks**: Group by category, sum rating_count, visualize with bar chart.\n",
    "   - **Skills**: Grouping (`groupby`), aggregation, visualization.\n",
    "   - **Output**: `data/processed/category_sales_insights/category_sales.csv`, bar chart PNG."
   ]
  }
 ],
 "metadata": {
  "language_info": {
   "name": "python"
  }
 },
 "nbformat": 4,
 "nbformat_minor": 5
}