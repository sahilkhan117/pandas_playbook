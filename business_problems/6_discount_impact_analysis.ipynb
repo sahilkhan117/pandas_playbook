{
 "cells": [
  {
   "cell_type": "markdown",
   "id": "6",
   "metadata": {},
   "source": [
    "# 6. **`discount_impact_analysis.ipynb`**\n",
    "   - **Problem**: Analyze how discount percentage affects product ratings on Amazon.\n",
    "   - **Dataset**: `amazon.csv`\n",
    "   - **Tasks**: Bin discounts, calculate average ratings per bin, plot scatter chart.\n",
    "   - **Skills**: Grouping, applying functions (`apply`), visualization.\n",
    "   - **Output**: `data/processed/discount_impact_analysis/discount_ratings.csv`, scatter plot PNG."
   ]
  }
 ],
 "metadata": {
  "language_info": {
   "name": "python"
  }
 },
 "nbformat": 4,
 "nbformat_minor": 5
}