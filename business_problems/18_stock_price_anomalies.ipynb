{
 "cells": [
  {
   "cell_type": "markdown",
   "id": "18",
   "metadata": {},
   "source": [
    "# 18. **`stock_price_anomalies.ipynb`**\n",
    "- **Problem**: Detect abnormal price movements (>5% daily change) in NIFTY-50 stocks.\n",
    "- **Dataset**: `NIFTY50_all.csv`\n",
    "- **Tasks**: Calculate daily returns, filter anomalies, visualize.\n",
    "- **Skills**: Filtering (`query`), applying functions, visualization.\n",
    "- **Output**: `data/processed/stock_price_anomalies/anomalies.csv`, plot PNG."
   ]
  }
 ],
 "metadata": {
  "language_info": {
   "name": "python"
  }
 },
 "nbformat": 4,
 "nbformat_minor": 5
}
