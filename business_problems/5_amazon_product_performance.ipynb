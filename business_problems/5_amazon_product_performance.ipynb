{
 "cells": [
  {
   "cell_type": "markdown",
   "id": "5",
   "metadata": {},
   "source": [
    "# 5. **`amazon_product_performance.ipynb`**\n",
    "   - **Problem**: Identify top-performing Amazon products by sales score (rating × rating_count).\n",
    "   - **Dataset**: `amazon.csv`\n",
    "   - **Tasks**: Calculate sales score, sort top 10 products, visualize with bar chart.\n",
    "   - **Skills**: Filtering, sorting (`sort_values`), visualization.\n",
    "   - **Output**: `data/processed/amazon_product_performance/top_products.csv`, bar chart PNG."
   ]
  }
 ],
 "metadata": {
  "language_info": {
   "name": "python"
  }
 },
 "nbformat": 4,
 "nbformat_minor": 5
}