{
 "cells": [
  {
   "cell_type": "markdown",
   "id": "17",
   "metadata": {},
   "source": [
    "# 17. `sector_performance.ipynb`\n",
    "\n",
    "- **Problem**: Compare stock performance by sector using NIFTY-50 metadata.\n",
    "- **Datasets**: `NIFTY50_all.csv`, `stock_metadata.csv`\n",
    "- **Tasks**: Merge with metadata, group by sector, plot sector returns.\n",
    "- **Skills**: Merging (`merge`), grouping, visualization.\n",
    "- **Output**: `data/processed/sector_performance/sector_returns.csv`, bar plot PNG."
   ]
  }
 ],
 "metadata": {
  "language_info": {
   "name": "python"
  }
 },
 "nbformat": 4,
 "nbformat_minor": 5
}
