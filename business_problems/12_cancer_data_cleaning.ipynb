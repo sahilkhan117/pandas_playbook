{
 "cells": [
  {
   "cell_type": "markdown",
   "id": "12",
   "metadata": {},
   "source": [
    "# 12. **`cancer_data_cleaning.ipynb`**\n",
    "    - **Problem**: Clean the cancer dataset by handling missing values and outliers.\n",
    "    - **Dataset**: `Cancer_Data.csv`\n",
    "    - **Tasks**: Use `fillna()`, clip outliers, save cleaned data.\n",
    "    - **Skills**: Data cleaning (`fillna`, `clip`), performance optimization.\n",
    "    - **Output**: `data/processed/cancer_data_cleaning/cancer_cleaned.csv`."
   ]
  }
 ],
 "metadata": {
  "language_info": {
   "name": "python"
  }
 },
 "nbformat": 4,
 "nbformat_minor": 5
}