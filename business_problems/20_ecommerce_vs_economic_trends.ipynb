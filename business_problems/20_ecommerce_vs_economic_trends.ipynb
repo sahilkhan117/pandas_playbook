{
 "cells": [
  {
   "cell_type": "markdown",
   "id": "20",
   "metadata": {},
   "source": [
    "# 20. **`ecommerce_vs_economic_trends.ipynb`**\n",
    "    - **Problem**: Correlate Amazon sales (rating_count) with global GDP trends.\n",
    "    - **Datasets**: `amazon.csv`, `world_gdp_data.csv`\n",
    "    - **Tasks**: Aggregate Amazon sales by year, merge with GDP, plot trends.\n",
    "    - **Skills**: Grouping, merging, time-series, visualization.\n",
    "    - **Output**: `data/processed/ecommerce_vs_economic_trends/sales_gdp.csv`, line plot PNG."
   ]
  }
 ],
 "metadata": {
  "language_info": {
   "name": "python"
  }
 },
 "nbformat": 4,
 "nbformat_minor": 5
}