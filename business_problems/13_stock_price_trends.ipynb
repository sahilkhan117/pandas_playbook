{
 "cells": [
  {
   "cell_type": "markdown",
   "id": "13",
   "metadata": {},
   "source": [
    "# 13. **`stock_price_trends.ipynb`**\n",
    "    - **Problem**: Analyze price trends for top NIFTY-50 companies.\n",
    "    - **Dataset**: `NIFTY50_all.csv`\n",
    "    - **Tasks**: Resample by month, calculate average Close, plot line chart.\n",
    "    - **Skills**: Time-series (`resample`), visualization.\n",
    "    - **Output**: `data/processed/stock_price_trends/stock_trends.csv`, line plot PNG."
   ]
  }
 ],
 "metadata": {
  "language_info": {
   "name": "python"
  }
 },
 "nbformat": 4,
 "nbformat_minor": 5
}