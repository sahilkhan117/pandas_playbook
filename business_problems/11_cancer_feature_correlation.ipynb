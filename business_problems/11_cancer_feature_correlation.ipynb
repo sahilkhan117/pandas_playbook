{
 "cells": [
  {
   "cell_type": "markdown",
   "id": "11",
   "metadata": {},
   "source": [
    "# 11. **`cancer_feature_correlation.ipynb`**\n",
    "    - **Problem**: Find correlations between cancer features (e.g., radius_mean vs. texture_mean).\n",
    "    - **Dataset**: `Cancer_Data.csv`\n",
    "    - **Tasks**: Compute correlation matrix, visualize with heatmap.\n",
    "    - **Skills**: Advanced visualization (`corr`, Matplotlib heatmap).\n",
    "    - **Output**: `data/processed/cancer_feature_correlation/correlation_matrix.csv`, heatmap PNG."
   ]
  }
 ],
 "metadata": {
  "language_info": {
   "name": "python"
  }
 },
 "nbformat": 4,
 "nbformat_minor": 5
}