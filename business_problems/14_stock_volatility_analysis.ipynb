{
 "cells": [
  {
   "cell_type": "markdown",
   "id": "14",
   "metadata": {},
   "source": [
    "# 14. **`stock_volatility_analysis.ipynb`**\n",
    "    - **Problem**: Calculate volatility (standard deviation of daily returns) for NIFTY-50 stocks.\n",
    "    - **Dataset**: `NIFTY50_all.csv`\n",
    "    - **Tasks**: Compute daily returns, group by Symbol, visualize top volatile stocks.\n",
    "    - **Skills**: Applying functions (`pct_change`), grouping, visualization.\n",
    "    - **Output**: `data/processed/stock_volatility_analysis/volatility.csv`, bar plot PNG."
   ]
  }
 ],
 "metadata": {
  "language_info": {
   "name": "python"
  }
 },
 "nbformat": 4,
 "nbformat_minor": 5
}