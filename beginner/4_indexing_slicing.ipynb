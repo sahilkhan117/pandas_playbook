{
  "cells": [
    {
      "cell_type": "markdown",
      "id": "448b2177",
      "metadata": {},
      "source": [
        "# Indexing and Slicing in Pandas\n",
        "\n",
        "This notebook explores **indexing and slicing** techniques in Pandas to select specific data from DataFrames and Series. You'll learn how to use label-based, integer-based, and condition-based methods to access and filter data efficiently.\n",
        "\n",
        "## Core Concepts\n",
        "\n",
        "- **Indexing**: Accessing specific rows, columns, or values in a DataFrame or Series using labels or positions.\n",
        "- **Slicing**: Selecting a subset of data, such as a range of rows or columns, based on conditions or indices.\n",
        "- **Key Techniques**:\n",
        "  - Label-based selection (e.g., using column names or row labels).\n",
        "  - Integer position-based selection (e.g., using row or column numbers).\n",
        "  - Boolean indexing for filtering data based on conditions.\n",
        "  - SQL-like queries for advanced filtering.\n",
        "\n",
        "## Key Methods & Functions\n",
        "\n",
        "Below are the essential methods for indexing and slicing in Pandas:\n",
        "\n",
        "- **`.loc[]`**: Label-based selection (inclusive of start and end labels).\n",
        "- **`.iloc[]`**: Integer position-based selection (zero-based, end-exclusive).\n",
        "- **`[]`**: Basic column selection or row filtering with conditions.\n",
        "- **`.at[]`**: Fast access to a single value by label.\n",
        "- **`.iat[]`**: Fast access to a single value by integer position.\n",
        "- **`.query()`**: Filter rows using SQL-like string expressions.\n",
        "- **`.isin()`**: Check if values are in a specified list or array.\n",
        "- **Boolean Indexing**: Use conditions (e.g., `df['age'] > 30`) to filter rows.\n",
        "\n",
        "## Learning Objectives\n",
        "\n",
        "- Understand the difference between `.loc[]` and `.iloc[]`.\n",
        "- Select single or multiple columns from a DataFrame.\n",
        "- Select rows by index, position, or condition.\n",
        "- Combine row and column selections for precise data extraction.\n",
        "- Apply Boolean masking to filter data based on multiple conditions."
      ]
    },
    {
      "cell_type": "markdown",
      "id": "ad6a4d07",
      "metadata": {},
      "source": [
        "### 1. Setting Up a Sample Dataset"
      ]
    },
    {
      "cell_type": "code",
      "execution_count": 15,
      "id": "70561b5a",
      "metadata": {},
      "outputs": [
        {
          "name": "stdout",
          "output_type": "stream",
          "text": [
            "Sample DataFrame:\n",
            "         name  age  salary department\n",
            "emp1    Alice   25   50000         HR\n",
            "emp2      Bob   30   60000         IT\n",
            "emp3  Charlie   35   75000         IT\n",
            "emp4    David   28   52000  Marketing\n",
            "emp5      Eve   22   48000         HR\n"
          ]
        }
      ],
      "source": [
        "import pandas as pd\n",
        "import numpy as np\n",
        "\n",
        "# Creating a sample DataFrame\n",
        "data = {\n",
        "    'name': ['Alice', 'Bob', 'Charlie', 'David', 'Eve'],\n",
        "    'age': [25, 30, 35, 28, 22],\n",
        "    'salary': [50000, 60000, 75000, 52000, 48000],\n",
        "    'department': ['HR', 'IT', 'IT', 'Marketing', 'HR']\n",
        "}\n",
        "df = pd.DataFrame(data, index=['emp1', 'emp2', 'emp3', 'emp4', 'emp5'])\n",
        "print(\"Sample DataFrame:\")\n",
        "print(df)"
      ]
    },
    {
      "cell_type": "markdown",
      "id": "560f3298",
      "metadata": {},
      "source": [
        "### 2. Selecting Columns with `[]`\n"
      ]
    },
    {
      "cell_type": "code",
      "execution_count": 16,
      "id": "e63a007a",
      "metadata": {},
      "outputs": [
        {
          "name": "stdout",
          "output_type": "stream",
          "text": [
            "Single column (name):\n",
            "emp1      Alice\n",
            "emp2        Bob\n",
            "emp3    Charlie\n",
            "emp4      David\n",
            "emp5        Eve\n",
            "Name: name, dtype: object\n",
            "\n",
            "Multiple columns (name, salary):\n",
            "         name  salary\n",
            "emp1    Alice   50000\n",
            "emp2      Bob   60000\n",
            "emp3  Charlie   75000\n",
            "emp4    David   52000\n",
            "emp5      Eve   48000\n"
          ]
        }
      ],
      "source": [
        "# Selecting a single column (returns a Series)\n",
        "name_col = df['name']\n",
        "print(\"Single column (name):\")\n",
        "print(name_col)\n",
        "\n",
        "# Selecting multiple columns (returns a DataFrame)\n",
        "subset_df = df[['name', 'salary']]\n",
        "print(\"\\nMultiple columns (name, salary):\")\n",
        "print(subset_df)"
      ]
    },
    {
      "cell_type": "markdown",
      "id": "902b514e",
      "metadata": {},
      "source": [
        "### 3. Label-Based Selection with `.loc[]`\n"
      ]
    },
    {
      "cell_type": "code",
      "execution_count": 17,
      "id": "8f3578ac",
      "metadata": {},
      "outputs": [
        {
          "name": "stdout",
          "output_type": "stream",
          "text": [
            "Row with index 'emp3':\n",
            "name          Charlie\n",
            "age                35\n",
            "salary          75000\n",
            "department         IT\n",
            "Name: emp3, dtype: object\n",
            "\n",
            "Rows 'emp1', 'emp3' and columns 'name', 'age':\n",
            "         name  age\n",
            "emp1    Alice   25\n",
            "emp3  Charlie   35\n",
            "\n",
            "Range of rows and columns:\n",
            "         name  age  salary\n",
            "emp2      Bob   30   60000\n",
            "emp3  Charlie   35   75000\n",
            "emp4    David   28   52000\n"
          ]
        }
      ],
      "source": [
        "# Selecting a single row by label\n",
        "row_emp3 = df.loc['emp3']\n",
        "print(\"Row with index 'emp3':\")\n",
        "print(row_emp3)\n",
        "\n",
        "# Selecting specific rows and columns\n",
        "subset_loc = df.loc[['emp1', 'emp3'], ['name', 'age']]\n",
        "print(\"\\nRows 'emp1', 'emp3' and columns 'name', 'age':\")\n",
        "print(subset_loc)\n",
        "\n",
        "# Selecting a range of rows (inclusive)\n",
        "range_loc = df.loc['emp2':'emp4', 'name':'salary']\n",
        "print(\"\\nRange of rows and columns:\")\n",
        "print(range_loc)"
      ]
    },
    {
      "cell_type": "markdown",
      "id": "f0402719",
      "metadata": {},
      "source": [
        "### 4. Integer-Based Selection with `.iloc[]`\n"
      ]
    },
    {
      "cell_type": "code",
      "execution_count": 18,
      "id": "753a1a95",
      "metadata": {},
      "outputs": [
        {
          "name": "stdout",
          "output_type": "stream",
          "text": [
            "Row at position 2:\n",
            "name          Charlie\n",
            "age                35\n",
            "salary          75000\n",
            "department         IT\n",
            "Name: emp3, dtype: object\n",
            "\n",
            "Rows 0, 2 and columns 0, 1:\n",
            "         name  age\n",
            "emp1    Alice   25\n",
            "emp3  Charlie   35\n",
            "\n",
            "Range of rows and columns:\n",
            "         name  age  salary\n",
            "emp2      Bob   30   60000\n",
            "emp3  Charlie   35   75000\n",
            "emp4    David   28   52000\n"
          ]
        }
      ],
      "source": [
        "# Selecting a single row by position\n",
        "row_pos = df.iloc[2]\n",
        "print(\"Row at position 2:\")\n",
        "print(row_pos)\n",
        "\n",
        "# Selecting specific rows and columns by position\n",
        "subset_iloc = df.iloc[[0, 2], [0, 1]]\n",
        "print(\"\\nRows 0, 2 and columns 0, 1:\")\n",
        "print(subset_iloc)\n",
        "\n",
        "# Selecting a range of rows and columns (end-exclusive)\n",
        "range_iloc = df.iloc[1:4, 0:3]\n",
        "print(\"\\nRange of rows and columns:\")\n",
        "print(range_iloc)"
      ]
    },
    {
      "cell_type": "markdown",
      "id": "5f5fdc10",
      "metadata": {},
      "source": [
        "### 5. Single Value Selection with `.at[]` and `.iat[]`\n"
      ]
    },
    {
      "cell_type": "code",
      "execution_count": 19,
      "id": "30ce20f5",
      "metadata": {},
      "outputs": [
        {
          "name": "stdout",
          "output_type": "stream",
          "text": [
            "Age of emp2 (using .at[]): 30\n",
            "Salary at row 2, column 2 (using .iat[]): 75000\n"
          ]
        }
      ],
      "source": [
        "# Accessing a single value by label\n",
        "age_emp2 = df.at['emp2', 'age']\n",
        "print(\"Age of emp2 (using .at[]):\", age_emp2)\n",
        "\n",
        "# Accessing a single value by position\n",
        "salary_pos2 = df.iat[2, 2]\n",
        "print(\"Salary at row 2, column 2 (using .iat[]):\", salary_pos2)"
      ]
    },
    {
      "cell_type": "markdown",
      "id": "a4046972",
      "metadata": {},
      "source": [
        "### 6. Boolean Indexing and Filtering\n"
      ]
    },
    {
      "cell_type": "code",
      "execution_count": 20,
      "id": "83805d71",
      "metadata": {},
      "outputs": [
        {
          "name": "stdout",
          "output_type": "stream",
          "text": [
            "Employees with age > 25:\n",
            "         name  age  salary department\n",
            "emp2      Bob   30   60000         IT\n",
            "emp3  Charlie   35   75000         IT\n",
            "emp4    David   28   52000  Marketing\n",
            "\n",
            "Employees with age > 25 and in IT department:\n",
            "         name  age  salary department\n",
            "emp2      Bob   30   60000         IT\n",
            "emp3  Charlie   35   75000         IT\n",
            "\n",
            "Employees in HR department:\n",
            "       name  age  salary department\n",
            "emp1  Alice   25   50000         HR\n",
            "emp5    Eve   22   48000         HR\n"
          ]
        }
      ],
      "source": [
        "# Filtering rows where age > 25\n",
        "age_filter = df[df['age'] > 25]\n",
        "print(\"Employees with age > 25:\")\n",
        "print(age_filter)\n",
        "\n",
        "# Combining multiple conditions\n",
        "complex_filter = df[(df['age'] > 25) & (df['department'] == 'IT')]\n",
        "print(\"\\nEmployees with age > 25 and in IT department:\")\n",
        "print(complex_filter)\n",
        "\n",
        "# Using .isin() to filter rows\n",
        "hr_filter = df[df['department'].isin(['HR'])]\n",
        "print(\"\\nEmployees in HR department:\")\n",
        "print(hr_filter)"
      ]
    },
    {
      "cell_type": "markdown",
      "id": "4a757c94",
      "metadata": {},
      "source": [
        "### 7. SQL-Like Filtering with `.query()`"
      ]
    },
    {
      "cell_type": "code",
      "execution_count": 21,
      "id": "969c5014",
      "metadata": {},
      "outputs": [
        {
          "name": "stdout",
          "output_type": "stream",
          "text": [
            "Employees with age > 25 and in IT (using .query()):\n",
            "         name  age  salary department\n",
            "emp2      Bob   30   60000         IT\n",
            "emp3  Charlie   35   75000         IT\n"
          ]
        }
      ],
      "source": [
        "# Filtering using query\n",
        "query_result = df.query(\"age > 25 and department == 'IT'\")\n",
        "print(\"Employees with age > 25 and in IT (using .query()):\")\n",
        "print(query_result)"
      ]
    },
    {
      "cell_type": "markdown",
      "id": "abc763ac",
      "metadata": {},
      "source": [
        "## Key Takeaways\n",
        "\n",
        "- **`.loc[]` vs `.iloc[]`**: Use `.loc[]` for label-based access (inclusive) and `.iloc[]` for integer-based access (end-exclusive).\n",
        "- **Column Selection**: Use `[]` for quick column selection or basic filtering.\n",
        "- **Single Value Access**: `.at[]` and `.iat[]` are faster for accessing individual values.\n",
        "- **Boolean Indexing**: Combine conditions with `&`, `|`, and `~` for powerful filtering.\n",
        "- **`.query()`**: Offers a concise, SQL-like syntax for filtering rows.\n",
        "- **Flexibility**: Combine row and column selections to extract exactly the data you need."
      ]
    }
  ],
  "metadata": {
    "kernelspec": {
      "display_name": "Python 3",
      "language": "python",
      "name": "python3"
    },
    "language_info": {
      "codemirror_mode": {
        "name": "ipython",
        "version": 3
      },
      "file_extension": ".py",
      "mimetype": "text/x-python",
      "name": "python",
      "nbconvert_exporter": "python",
      "pygments_lexer": "ipython3",
      "version": "3.12.2"
    }
  },
  "nbformat": 4,
  "nbformat_minor": 5
}
