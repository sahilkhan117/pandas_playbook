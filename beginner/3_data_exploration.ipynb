{
 "cells": [
  {
   "cell_type": "markdown",
   "id": "99ea20b7",
   "metadata": {},
   "source": [
    "# Data Exploration with Pandas\n",
    "\n",
    "This notebook focuses on **exploring datasets** in Pandas to understand their structure, content, and quality. You'll learn how to use key methods to quickly assess your data, identify patterns, and spot potential issues like missing values or incorrect data types.\n",
    "\n",
    "## Core Concepts\n",
    "\n",
    "- **Data Exploration**: The process of inspecting a dataset to understand its structure, content, and quality before analysis or modeling.\n",
    "- **Key Goals**:\n",
    "  - Assess dataset size, structure, and data types.\n",
    "  - Identify missing values, duplicates, or anomalies.\n",
    "  - Understand the distribution and statistical properties of the data.\n",
    "  - Familiarize yourself with the dataset's columns and values.\n",
    "\n",
    "## Key Methods & Functions\n",
    "\n",
    "Below are the essential methods for exploring data in Pandas:\n",
    "\n",
    "- **`.head(n)`**: Displays the first `n` rows (default `n=5`).\n",
    "- **`.tail(n)`**: Displays the last `n` rows (default `n=5`).\n",
    "- **`.info()`**: Shows DataFrame structure, including column names, data types, and missing values.\n",
    "- **`.describe()`**: Provides a statistical summary (count, mean, std, min, max, quartiles) for numerical columns.\n",
    "- **`.value_counts()`**: Counts unique values in a Series (useful for categorical data).\n",
    "- **`.unique()`**: Returns an array of unique values in a Series.\n",
    "- **`.nunique()`**: Counts the number of unique values in a Series or DataFrame.\n",
    "- **`.sample(n)`**: Returns a random sample of `n` rows.\n",
    "- **`.columns.tolist()`**: Returns column names as a list.\n",
    "\n",
    "## Learning Objectives\n",
    "\n",
    "- Learn how to quickly assess data quality and structure.\n",
    "- Understand statistical summaries and their implications.\n",
    "- Identify data types, missing values, and potential inconsistencies.\n",
    "- Get familiar with the distribution of categorical and numerical data."
   ]
  },
  {
   "cell_type": "markdown",
   "id": "28742ce6",
   "metadata": {},
   "source": [
    "### 1. Setting Up a Sample Dataset"
   ]
  },
  {
   "cell_type": "code",
   "execution_count": 1,
   "id": "e3e6e6f0",
   "metadata": {},
   "outputs": [],
   "source": [
    "import pandas as pd\n",
    "import numpy as np\n",
    "\n",
    "# Creating a sample DataFrame\n",
    "data = {\n",
    "    'name': ['Alice', 'Bob', 'Charlie', 'David', 'Eve', None],\n",
    "    'age': [25, 30, 35, 28, np.nan, 40],\n",
    "    'salary': [50000, 60000, 75000, 52000, 48000, 80000],\n",
    "    'department': ['HR', 'IT', 'IT', 'Marketing', 'HR', 'IT'],\n",
    "    'years_experience': [2, 5, 10, 3, 1, 15]\n",
    "}\n",
    "df = pd.DataFrame(data)"
   ]
  },
  {
   "cell_type": "markdown",
   "id": "e9f1b999",
   "metadata": {},
   "source": [
    "### 2. Basic Data Inspection"
   ]
  },
  {
   "cell_type": "code",
   "execution_count": 2,
   "id": "0076e3fb",
   "metadata": {},
   "outputs": [
    {
     "name": "stdout",
     "output_type": "stream",
     "text": [
      "First 3 rows:\n",
      "      name   age  salary department  years_experience\n",
      "0    Alice  25.0   50000         HR                 2\n",
      "1      Bob  30.0   60000         IT                 5\n",
      "2  Charlie  35.0   75000         IT                10\n",
      "\n",
      "Last 2 rows:\n",
      "   name   age  salary department  years_experience\n",
      "4   Eve   NaN   48000         HR                 1\n",
      "5  None  40.0   80000         IT                15\n",
      "\n",
      "Random sample of 2 rows:\n",
      "    name   age  salary department  years_experience\n",
      "3  David  28.0   52000  Marketing                 3\n",
      "4    Eve   NaN   48000         HR                 1\n"
     ]
    }
   ],
   "source": [
    "# Viewing the first 3 rows\n",
    "print(\"First 3 rows:\")\n",
    "print(df.head(3))\n",
    "\n",
    "# Viewing the last 2 rows\n",
    "print(\"\\nLast 2 rows:\")\n",
    "print(df.tail(2))\n",
    "\n",
    "# Getting a random sample of 2 rows\n",
    "print(\"\\nRandom sample of 2 rows:\")\n",
    "print(df.sample(2))"
   ]
  },
  {
   "cell_type": "markdown",
   "id": "d69eeeab",
   "metadata": {},
   "source": [
    "### 3. Understanding Data Structure\n",
    "\n",
    "**Explanation**: `.info()` shows non-null counts, helping identify missing values (e.g., `name` and `age` have missing values). It also displays data types and memory usage."
   ]
  },
  {
   "cell_type": "code",
   "execution_count": 3,
   "id": "37a1f38a",
   "metadata": {},
   "outputs": [
    {
     "name": "stdout",
     "output_type": "stream",
     "text": [
      "DataFrame info:\n",
      "<class 'pandas.core.frame.DataFrame'>\n",
      "RangeIndex: 6 entries, 0 to 5\n",
      "Data columns (total 5 columns):\n",
      " #   Column            Non-Null Count  Dtype  \n",
      "---  ------            --------------  -----  \n",
      " 0   name              5 non-null      object \n",
      " 1   age               5 non-null      float64\n",
      " 2   salary            6 non-null      int64  \n",
      " 3   department        6 non-null      object \n",
      " 4   years_experience  6 non-null      int64  \n",
      "dtypes: float64(1), int64(2), object(2)\n",
      "memory usage: 372.0+ bytes\n",
      "None\n",
      "\n",
      "Column names:\n",
      "['name', 'age', 'salary', 'department', 'years_experience']\n"
     ]
    }
   ],
   "source": [
    "# Getting DataFrame structure and memory usage\n",
    "print(\"DataFrame info:\")\n",
    "print(df.info())\n",
    "\n",
    "# Listing column names\n",
    "print(\"\\nColumn names:\")\n",
    "print(df.columns.tolist())"
   ]
  },
  {
   "cell_type": "markdown",
   "id": "b0b82a0f",
   "metadata": {},
   "source": [
    "### 4. Statistical Summary\n",
    "\n",
    "**Explanation**: `.describe()` provides count, mean, standard deviation, min, max, and quartiles for numerical columns, helping you understand the data's distribution."
   ]
  },
  {
   "cell_type": "code",
   "execution_count": 4,
   "id": "b74ff770",
   "metadata": {},
   "outputs": [
    {
     "name": "stdout",
     "output_type": "stream",
     "text": [
      "Statistical summary:\n",
      "            age        salary  years_experience\n",
      "count   5.00000      6.000000          6.000000\n",
      "mean   31.60000  60833.333333          6.000000\n",
      "std     5.94138  13629.624597          5.440588\n",
      "min    25.00000  48000.000000          1.000000\n",
      "25%    28.00000  50500.000000          2.250000\n",
      "50%    30.00000  56000.000000          4.000000\n",
      "75%    35.00000  71250.000000          8.750000\n",
      "max    40.00000  80000.000000         15.000000\n"
     ]
    }
   ],
   "source": [
    "# Getting statistical summary of numerical columns\n",
    "print(\"Statistical summary:\")\n",
    "print(df.describe())"
   ]
  },
  {
   "cell_type": "markdown",
   "id": "94572dfc",
   "metadata": {},
   "source": [
    "### 5. Exploring Categorical Data\n",
    "\n",
    "**Explanation**: `.value_counts()` is great for categorical data to see frequency distributions. `.unique()` and `.nunique()` help understand the variety of categories."
   ]
  },
  {
   "cell_type": "code",
   "execution_count": 5,
   "id": "5e422a29",
   "metadata": {},
   "outputs": [
    {
     "name": "stdout",
     "output_type": "stream",
     "text": [
      "Department value counts:\n",
      "department\n",
      "IT           3\n",
      "HR           2\n",
      "Marketing    1\n",
      "Name: count, dtype: int64\n",
      "\n",
      "Unique departments:\n",
      "['HR' 'IT' 'Marketing']\n",
      "\n",
      "Number of unique departments:\n",
      "3\n"
     ]
    }
   ],
   "source": [
    "# Counting unique values in 'department'\n",
    "print(\"Department value counts:\")\n",
    "print(df['department'].value_counts())\n",
    "\n",
    "# Getting unique values in 'department'\n",
    "print(\"\\nUnique departments:\")\n",
    "print(df['department'].unique())\n",
    "\n",
    "# Counting unique values in 'department'\n",
    "print(\"\\nNumber of unique departments:\")\n",
    "print(df['department'].nunique())"
   ]
  },
  {
   "cell_type": "markdown",
   "id": "8b2b2ad5",
   "metadata": {},
   "source": [
    "## Key Takeaways\n",
    "\n",
    "- **Quick Inspection**: Use `.head()`, `.tail()`, and `.sample()` to get a snapshot of your data.\n",
    "- **Structure and Quality**: `.info()` reveals data types, missing values, and memory usage.\n",
    "- **Statistical Insights**: `.describe()` summarizes numerical data, highlighting potential outliers or skewed distributions.\n",
    "- **Categorical Analysis**: `.value_counts()`, `.unique()`, and `.nunique()` are essential for understanding categorical columns.\n",
    "- **Data Quality**: Look for missing values (e.g., `name` and `age` in our example) and incorrect data types to plan cleaning steps."
   ]
  }
 ],
 "metadata": {
  "kernelspec": {
   "display_name": "Python 3",
   "language": "python",
   "name": "python3"
  },
  "language_info": {
   "codemirror_mode": {
    "name": "ipython",
    "version": 3
   },
   "file_extension": ".py",
   "mimetype": "text/x-python",
   "name": "python",
   "nbconvert_exporter": "python",
   "pygments_lexer": "ipython3",
   "version": "3.12.2"
  }
 },
 "nbformat": 4,
 "nbformat_minor": 5
}
