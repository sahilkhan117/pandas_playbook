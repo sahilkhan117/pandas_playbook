{
 "cells": [
  {
   "cell_type": "markdown",
   "id": "44a8d0b7",
   "metadata": {},
   "source": [
    "# Data Cleaning with Pandas\n",
    "\n",
    "This notebook focuses on **data cleaning** in Pandas to handle messy, incomplete, or incorrect data. You'll learn how to identify and address missing values, duplicates, inconsistent data types, and string issues to prepare your dataset for analysis.\n",
    "\n",
    "## Core Concepts\n",
    "\n",
    "- **Data Cleaning**: The process of identifying and correcting errors, inconsistencies, or missing values in a dataset to ensure data quality.\n",
    "- **Common Issues**:\n",
    "  - Missing values (e.g., `NaN`, `None`).\n",
    "  - Duplicate rows or entries.\n",
    "  - Inconsistent data types (e.g., numbers stored as strings).\n",
    "  - Inconsistent string formats (e.g., mixed case, extra spaces).\n",
    "- **Goal**: Transform raw data into a clean, consistent format suitable for analysis or modeling.\n",
    "\n",
    "## Key Methods & Functions\n",
    "\n",
    "Below are the essential methods for data cleaning in Pandas:\n",
    "\n",
    "- **`.isnull()` / `.isna()`**: Detect missing values (returns `True` for `NaN` or `None`).\n",
    "- **`.notnull()` / `.notna()`**: Detect non-missing values.\n",
    "- **`.dropna()`**: Remove rows or columns with missing values.\n",
    "- **`.fillna()`**: Fill missing values with a specific value, mean, median, or forward/backward fill.\n",
    "- **`.drop_duplicates()`**: Remove duplicate rows based on specified columns.\n",
    "- **`.duplicated()`**: Identify duplicate rows.\n",
    "- **`.str` methods**: Manipulate strings (e.g., `.str.lower()`, `.str.strip()`, `.str.replace()`).\n",
    "- **`.astype()`**: Convert column data types (e.g., string to integer).\n",
    "- **`.replace()`**: Replace specific values in a DataFrame or Series.\n",
    "\n",
    "## Learning Objectives\n",
    "\n",
    "- Identify and analyze patterns of missing data.\n",
    "- Apply different strategies for handling missing values (e.g., drop, fill).\n",
    "- Detect and remove duplicate rows.\n",
    "- Clean and standardize string data (e.g., remove spaces, standardize case).\n",
    "- Convert data types to ensure consistency and enable calculations."
   ]
  },
  {
   "cell_type": "markdown",
   "id": "b5c7c01f",
   "metadata": {},
   "source": [
    "### 1. Setting Up a Sample Dataset"
   ]
  },
  {
   "cell_type": "code",
   "execution_count": 8,
   "id": "7426a01c",
   "metadata": {},
   "outputs": [
    {
     "name": "stdout",
     "output_type": "stream",
     "text": [
      "Original DataFrame:\n",
      "        name   age   salary department  years_experience\n",
      "0     Alice     25  50000.0         HR               2.0\n",
      "1        BOB    30  60000.0         IT               5.0\n",
      "2    Charlie    35      NaN         IT              10.0\n",
      "3      David  None  52000.0  Marketing               3.0\n",
      "4        Eve    22  48000.0         hr               1.0\n",
      "5     Alice     25  50000.0         HR               2.0\n",
      "6       None    28  55000.0         IT               NaN\n"
     ]
    }
   ],
   "source": [
    "import pandas as pd\n",
    "import numpy as np\n",
    "\n",
    "# Creating a sample DataFrame with messy data\n",
    "data = {\n",
    "    'name': ['Alice ', 'BOB', '  Charlie', 'David', 'Eve', 'Alice ', None],\n",
    "    'age': [25, '30', 35, None, 22, 25, '28'],\n",
    "    'salary': [50000, 60000, np.nan, 52000, 48000, 50000, 55000],\n",
    "    'department': ['HR', 'IT', 'IT', 'Marketing', 'hr', 'HR', 'IT'],\n",
    "    'years_experience': [2, 5, 10, 3, 1, 2, np.nan]\n",
    "}\n",
    "df = pd.DataFrame(data)\n",
    "print(\"Original DataFrame:\")\n",
    "print(df)"
   ]
  },
  {
   "cell_type": "markdown",
   "id": "b60d39e5",
   "metadata": {},
   "source": [
    "### 2. Detecting Missing Values\n",
    "\n",
    "**Issues in the Dataset**:\n",
    "- Missing values in `name`, `age`, `salary`, and `years_experience`.\n",
    "- Duplicate row (index 0 and 5).\n",
    "- Inconsistent string formatting in `name` (extra spaces, mixed case).\n",
    "- Inconsistent `department` values (e.g., 'HR' vs 'hr').\n",
    "- Incorrect data type in `age` (string instead of numeric)."
   ]
  },
  {
   "cell_type": "code",
   "execution_count": 9,
   "id": "1af5d883",
   "metadata": {},
   "outputs": [
    {
     "name": "stdout",
     "output_type": "stream",
     "text": [
      "Missing values in each column:\n",
      "name                1\n",
      "age                 1\n",
      "salary              1\n",
      "department          0\n",
      "years_experience    1\n",
      "dtype: int64\n",
      "\n",
      "Non-missing values in each column:\n",
      "name                6\n",
      "age                 6\n",
      "salary              6\n",
      "department          7\n",
      "years_experience    6\n",
      "dtype: int64\n"
     ]
    }
   ],
   "source": [
    "# Checking for missing values\n",
    "print(\"Missing values in each column:\")\n",
    "print(df.isnull().sum())\n",
    "\n",
    "# Checking for non-missing values\n",
    "print(\"\\nNon-missing values in each column:\")\n",
    "print(df.notnull().sum())"
   ]
  },
  {
   "cell_type": "markdown",
   "id": "81973989",
   "metadata": {},
   "source": [
    "### 3. Handling Missing Values\n"
   ]
  },
  {
   "cell_type": "code",
   "execution_count": 10,
   "id": "6218315c",
   "metadata": {},
   "outputs": [
    {
     "name": "stdout",
     "output_type": "stream",
     "text": [
      "DataFrame after dropping rows with missing values:\n",
      "     name age   salary department  years_experience\n",
      "0  Alice   25  50000.0         HR               2.0\n",
      "1     BOB  30  60000.0         IT               5.0\n",
      "4     Eve  22  48000.0         hr               1.0\n",
      "5  Alice   25  50000.0         HR               2.0\n",
      "\n",
      "DataFrame after filling missing salary with mean:\n",
      "        name   salary\n",
      "0     Alice   50000.0\n",
      "1        BOB  60000.0\n",
      "2    Charlie  52500.0\n",
      "3      David  52000.0\n",
      "4        Eve  48000.0\n",
      "5     Alice   50000.0\n",
      "6       None  55000.0\n",
      "\n",
      "DataFrame after filling missing names:\n",
      "        name   salary\n",
      "0     Alice   50000.0\n",
      "1        BOB  60000.0\n",
      "2    Charlie  52500.0\n",
      "3      David  52000.0\n",
      "4        Eve  48000.0\n",
      "5     Alice   50000.0\n",
      "6    Unknown  55000.0\n"
     ]
    }
   ],
   "source": [
    "# Dropping rows with any missing values\n",
    "df_dropped = df.dropna()\n",
    "print(\"DataFrame after dropping rows with missing values:\")\n",
    "print(df_dropped)\n",
    "\n",
    "# Filling missing values in 'salary' with the mean\n",
    "df['salary'] = df['salary'].fillna(df['salary'].mean())\n",
    "print(\"\\nDataFrame after filling missing salary with mean:\")\n",
    "print(df[['name', 'salary']])\n",
    "\n",
    "# Filling missing values in 'name' with a default value\n",
    "df['name'] = df['name'].fillna('Unknown')\n",
    "print(\"\\nDataFrame after filling missing names:\")\n",
    "print(df[['name', 'salary']])"
   ]
  },
  {
   "cell_type": "markdown",
   "id": "112a0b01",
   "metadata": {},
   "source": [
    "### 4. Detecting and Removing Duplicates\n"
   ]
  },
  {
   "cell_type": "code",
   "execution_count": 11,
   "id": "14999b5a",
   "metadata": {},
   "outputs": [
    {
     "name": "stdout",
     "output_type": "stream",
     "text": [
      "Duplicate rows:\n",
      "     name age   salary department  years_experience\n",
      "5  Alice   25  50000.0         HR               2.0\n",
      "\n",
      "DataFrame after removing duplicates:\n",
      "        name   age   salary department  years_experience\n",
      "0     Alice     25  50000.0         HR               2.0\n",
      "1        BOB    30  60000.0         IT               5.0\n",
      "2    Charlie    35  52500.0         IT              10.0\n",
      "3      David  None  52000.0  Marketing               3.0\n",
      "4        Eve    22  48000.0         hr               1.0\n",
      "6    Unknown    28  55000.0         IT               NaN\n"
     ]
    }
   ],
   "source": [
    "# Identifying duplicate rows\n",
    "print(\"Duplicate rows:\")\n",
    "print(df[df.duplicated()])\n",
    "\n",
    "# Removing duplicate rows (keeping the first occurrence)\n",
    "df_no_duplicates = df.drop_duplicates(keep='first')\n",
    "print(\"\\nDataFrame after removing duplicates:\")\n",
    "print(df_no_duplicates)"
   ]
  },
  {
   "cell_type": "markdown",
   "id": "c7074b29",
   "metadata": {},
   "source": [
    "### 5. String Cleaning and Standardization\n"
   ]
  },
  {
   "cell_type": "code",
   "execution_count": 12,
   "id": "2ffe24b4",
   "metadata": {},
   "outputs": [
    {
     "name": "stdout",
     "output_type": "stream",
     "text": [
      "DataFrame after cleaning 'name' column:\n",
      "      name   salary\n",
      "0    Alice  50000.0\n",
      "1      Bob  60000.0\n",
      "2  Charlie  52500.0\n",
      "3    David  52000.0\n",
      "4      Eve  48000.0\n",
      "5    Alice  50000.0\n",
      "6  Unknown  55000.0\n",
      "\n",
      "DataFrame after standardizing 'department':\n",
      "      name department\n",
      "0    Alice         HR\n",
      "1      Bob         It\n",
      "2  Charlie         It\n",
      "3    David  Marketing\n",
      "4      Eve         HR\n",
      "5    Alice         HR\n",
      "6  Unknown         It\n"
     ]
    }
   ],
   "source": [
    "# Removing leading/trailing spaces and standardizing case in 'name'\n",
    "df['name'] = df['name'].str.strip().str.title()\n",
    "print(\"DataFrame after cleaning 'name' column:\")\n",
    "print(df[['name', 'salary']])\n",
    "\n",
    "# Standardizing 'department' values (e.g., 'hr' to 'HR')\n",
    "df['department'] = df['department'].str.title().replace({'Hr': 'HR'})\n",
    "print(\"\\nDataFrame after standardizing 'department':\")\n",
    "print(df[['name', 'department']])"
   ]
  },
  {
   "cell_type": "markdown",
   "id": "f374d0c4",
   "metadata": {},
   "source": [
    "### 6. Converting Data Types\n"
   ]
  },
  {
   "cell_type": "code",
   "execution_count": 13,
   "id": "0cdfeb8f",
   "metadata": {},
   "outputs": [
    {
     "name": "stdout",
     "output_type": "stream",
     "text": [
      "Data types after converting 'age':\n",
      "name                 object\n",
      "age                 float64\n",
      "salary              float64\n",
      "department           object\n",
      "years_experience    float64\n",
      "dtype: object\n",
      "\n",
      "DataFrame after converting 'salary' to integer:\n",
      "      name  salary\n",
      "0    Alice   50000\n",
      "1      Bob   60000\n",
      "2  Charlie   52500\n",
      "3    David   52000\n",
      "4      Eve   48000\n",
      "5    Alice   50000\n",
      "6  Unknown   55000\n"
     ]
    }
   ],
   "source": [
    "# Converting 'age' to numeric (float or int)\n",
    "df['age'] = pd.to_numeric(df['age'], errors='coerce')\n",
    "print(\"Data types after converting 'age':\")\n",
    "print(df.dtypes)\n",
    "\n",
    "# Converting 'salary' to integer\n",
    "df['salary'] = df['salary'].astype(int)\n",
    "print(\"\\nDataFrame after converting 'salary' to integer:\")\n",
    "print(df[['name', 'salary']])"
   ]
  },
  {
   "cell_type": "markdown",
   "id": "d1db0d9d",
   "metadata": {},
   "source": [
    "### 7. Replacing Specific Values\n"
   ]
  },
  {
   "cell_type": "code",
   "execution_count": 14,
   "id": "e72c2c55",
   "metadata": {},
   "outputs": [
    {
     "name": "stdout",
     "output_type": "stream",
     "text": [
      "DataFrame after replacing 'Marketing' with 'MKT':\n",
      "      name department\n",
      "0    Alice         HR\n",
      "1      Bob         It\n",
      "2  Charlie         It\n",
      "3    David        MKT\n",
      "4      Eve         HR\n",
      "5    Alice         HR\n",
      "6  Unknown         It\n"
     ]
    }
   ],
   "source": [
    "# Replacing specific values in 'department'\n",
    "df['department'] = df['department'].replace({'Marketing': 'MKT'})\n",
    "print(\"DataFrame after replacing 'Marketing' with 'MKT':\")\n",
    "print(df[['name', 'department']])"
   ]
  },
  {
   "cell_type": "markdown",
   "id": "cc8bbe4f",
   "metadata": {},
   "source": [
    "## Key Takeaways\n",
    "\n",
    "- **Missing Values**: Use `.isnull()` to detect missing data and `.dropna()` or `.fillna()` to handle them based on your analysis needs.\n",
    "- **Duplicates**: Identify duplicates with `.duplicated()` and remove them with `.drop_duplicates()` to avoid skewed results.\n",
    "- **String Cleaning**: Use `.str` methods (e.g., `.str.strip()`, `.str.title()`) to standardize text data.\n",
    "- **Data Types**: Convert columns to appropriate types using `.astype()` or `pd.to_numeric()` for accurate calculations.\n",
    "- **Value Replacement**: Use `.replace()` for targeted value substitutions to ensure consistency."
   ]
  }
 ],
 "metadata": {
  "kernelspec": {
   "display_name": "Python 3",
   "language": "python",
   "name": "python3"
  },
  "language_info": {
   "codemirror_mode": {
    "name": "ipython",
    "version": 3
   },
   "file_extension": ".py",
   "mimetype": "text/x-python",
   "name": "python",
   "nbconvert_exporter": "python",
   "pygments_lexer": "ipython3",
   "version": "3.12.2"
  }
 },
 "nbformat": 4,
 "nbformat_minor": 5
}
