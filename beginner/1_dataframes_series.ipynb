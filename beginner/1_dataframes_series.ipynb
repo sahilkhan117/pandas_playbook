{
 "cells": [
  {
   "cell_type": "markdown",
   "id": "a19fba8a",
   "metadata": {},
   "source": [
    "# Understanding Pandas DataFrames and Series\n",
    "This notebook introduces the two fundamental data structures in Pandas: Series and DataFrames. You'll learn how to create, manipulate, and explore these structures, along with their key attributes and methods.\n",
    "\n",
    "### Core Concepts\n",
    "- Pandas Series: A one-dimensional labeled array capable of holding any data type (integers, strings, floats, etc.). Think of it as a single column with an index.\n",
    "- Pandas DataFrame: A two-dimensional labeled data structure with columns of potentially different data types. It resembles a spreadsheet or SQL table.\n",
    "- Index: Both Series and DataFrames have an index that labels the rows, enabling efficient data alignment and retrieval.\n",
    "- Key Difference: A Series is 1D (like a list with labels), while a DataFrame is 2D (like a table with rows and columns).\n",
    "\n",
    "### Key Methods & Attributes\n",
    "Below are the essential methods and attributes for working with Series and DataFrames:\n",
    "\n",
    "- `pd.Series():` Creates a Series from lists, arrays, or dictionaries.\n",
    "- `pd.DataFrame():` Creates a DataFrame from dictionaries, lists, or arrays.\n",
    "- `.index:` Access or modify row labels.\n",
    "- `.columns:` Access or modify column labels (DataFrame only).\n",
    "- `.values:` Returns the underlying NumPy array.\n",
    "- `.dtypes:` Shows the data types of each column (DataFrame) or the Series.\n",
    "- `.shape:` Returns a tuple of (rows, columns) for DataFrames or (length,) for Series.\n",
    "- `.size:` Total number of elements.\n",
    "- `.ndim:` Number of dimensions (1 for Series, 2 for DataFrame).\n",
    "\n",
    "### Learning Objectives\n",
    "\n",
    "- Understand the structural differences between Series and DataFrames.\n",
    "- Learn how to create Series and DataFrames from various data sources.\n",
    "- Explore the role of the index in data alignment and retrieval.\n",
    "- Get familiar with basic attributes and properties.\n",
    "- Convert between Series and DataFrames when needed."
   ]
  },
  {
   "cell_type": "code",
   "execution_count": null,
   "id": "37f3a7e0",
   "metadata": {},
   "outputs": [],
   "source": [
    "import pandas as pd\n",
    "import numpy as np"
   ]
  },
  {
   "cell_type": "markdown",
   "id": "dffcb23b",
   "metadata": {},
   "source": [
    "## 1. Creating a Series"
   ]
  },
  {
   "cell_type": "code",
   "execution_count": null,
   "id": "fd1981f0",
   "metadata": {},
   "outputs": [],
   "source": [
    "data_list = [10, 20, 30, 40]\n",
    "series1 = pd.Series(data_list, index=['a', 'b', 'c', 'd'])\n",
    "print(\"Series from list:\")\n",
    "print(series1)\n",
    "\n",
    "# Creating a Series from a dictionary\n",
    "data_dict = {'apple': 3, 'banana': 5, 'orange': 2}\n",
    "series2 = pd.Series(data_dict)\n",
    "print(\"\\nSeries from dictionary:\")\n",
    "print(series2)\n",
    "\n",
    "# Accessing attributes\n",
    "print(\"\\nSeries attributes:\")\n",
    "print(f\"Index: {series1.index}\")\n",
    "print(f\"Values: {series1.values}\")\n",
    "print(f\"Data type: {series1.dtype}\")\n",
    "print(f\"Shape: {series1.shape}\")\n",
    "print(f\"Size: {series1.size}\")\n",
    "print(f\"Dimensions: {series1.ndim}\")"
   ]
  },
  {
   "cell_type": "markdown",
   "id": "59b3886d",
   "metadata": {},
   "source": [
    "## 2. Creating and Exploring a Pandas DataFrame"
   ]
  },
  {
   "cell_type": "code",
   "execution_count": null,
   "id": "fb5aa336",
   "metadata": {},
   "outputs": [],
   "source": [
    "# Creating a DataFrame from a dictionary\n",
    "data = {\n",
    "    'Name':['Alice', 'Bob', 'Charlie'],\n",
    "    'Age':[25, 30, 35],\n",
    "    'City':['New York', 'Los Angeles', 'Chicago']\n",
    "}\n",
    "df = pd.DataFrame(data)\n",
    "print(\"DataFrame from dictionary:\")\n",
    "print(df)\n",
    "\n",
    "# Creating a DataFrame from a list of lists\n",
    "data_list = [[1, 'Apple', 0.99], [2, 'Banana', 0.59], [3, 'Orange', 0.79]]\n",
    "df2 = pd.DataFrame(data_list, columns=['ID', 'Fruit', 'Price'])\n",
    "print(\"\\nDataFrame from list of lists:\")\n",
    "print(df2)\n",
    "\n",
    "# Accessing attributes\n",
    "print(\"\\nDataFrame attributes:\")\n",
    "print(f\"Index:{df.index}\")\n",
    "print(f\"Columns:{df.columns}\")\n",
    "print(f\"Values:\\n{df.values}\")\n",
    "print(f\"Data types:\\n{df.dtypes}\")\n",
    "print(f\"Shape:{df.shape}\")\n",
    "print(f\"Size:{df.size}\")\n",
    "print(f\"Dimensions:{df.ndim}\")"
   ]
  },
  {
   "cell_type": "markdown",
   "id": "0744ffb5",
   "metadata": {},
   "source": [
    "## 3. Converting Between Series and DataFrame"
   ]
  },
  {
   "cell_type": "code",
   "execution_count": null,
   "id": "0d313557",
   "metadata": {},
   "outputs": [],
   "source": [
    "# Converting a Series to a DataFrame\n",
    "series3 = pd.Series([100, 200, 300], index=['x', 'y', 'z'])\n",
    "df_from_series = series3.to_frame(name='Value')\n",
    "print(\"Series to DataFrame:\")\n",
    "print(df_from_series)\n",
    "\n",
    "# Extracting a Series from a DataFrame\n",
    "series_from_df = df['Name']\n",
    "print(\"\\nSeries from DataFrame column:\")\n",
    "print(series_from_df)\n",
    "\n",
    "# Converting a DataFrame to a Series (single-column DataFrame)\n",
    "single_col_df = pd.DataFrame({'Score': [85, 90, 95]})\n",
    "series_from_single_col = single_col_df['Score']\n",
    "print(\"\\nSeries from single-column DataFrame:\")\n",
    "print(series_from_single_col)"
   ]
  },
  {
   "cell_type": "markdown",
   "id": "a81a8b10",
   "metadata": {},
   "source": [
    "## Key Takeaways\n",
    "\n",
    "- Series: Ideal for one-dimensional data with a flexible index. Use it when working with a single column or sequence.\n",
    "- DataFrame: Perfect for tabular data with multiple columns. It’s the backbone of most data analysis tasks in Pandas.\n",
    "- Index: The index is a powerful feature for aligning and accessing data in both structures.\n",
    "- Attributes: Use `.index, .columns, .values, .dtypes, .shape, .size, and .ndim` to inspect and understand your data.\n",
    "- Conversions: Easily convert between Series and DataFrames using methods like .to_frame() or by selecting columns.\n"
   ]
  }
 ],
 "metadata": {
  "kernelspec": {
   "display_name": "Python 3",
   "language": "python",
   "name": "python3"
  },
  "language_info": {
   "codemirror_mode": {
    "name": "ipython",
    "version": 3
   },
   "file_extension": ".py",
   "mimetype": "text/x-python",
   "name": "python",
   "nbconvert_exporter": "python",
   "pygments_lexer": "ipython3",
   "version": "3.12.2"
  }
 },
 "nbformat": 4,
 "nbformat_minor": 5
}
