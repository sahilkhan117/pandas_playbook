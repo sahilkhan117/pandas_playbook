{
 "cells": [
  {
   "cell_type": "markdown",
   "id": "ee79b485",
   "metadata": {},
   "source": [
    "# Reading and Writing Data with Pandas\n",
    "\n",
    "This notebook explores how to **read data** from various file formats into Pandas DataFrames and **write data** back to different formats. You'll learn about common file formats, key methods, and best practices for handling data input/output (I/O) operations.\n",
    "\n",
    "## Core Concepts\n",
    "\n",
    "- **Reading Data**: Pandas provides functions to load data from files like CSV, Excel, JSON, and databases into DataFrames or Series.\n",
    "- **Writing Data**: Save DataFrames to various formats for sharing or storage.\n",
    "- **File Formats**: Different formats (CSV, Excel, JSON, etc.) serve different purposes based on data structure, compatibility, and size.\n",
    "- **Customization**: Use parameters to handle headers, delimiters, encodings, and indices while reading or writing.\n",
    "- **Efficiency**: Optimize I/O operations for large datasets using appropriate formats like Pickle.\n",
    "\n",
    "## Key Methods & Functions\n",
    "\n",
    "Below are the essential methods for reading and writing data in Pandas:\n",
    "\n",
    "- **`pd.read_csv()`**: Reads CSV files with parameters like `sep`, `header`, `index_col`, and `encoding`.\n",
    "- **`pd.read_excel()`**: Reads Excel files with options like `sheet_name` and `usecols`.\n",
    "- **`pd.read_json()`**: Reads JSON files with the `orient` parameter to specify JSON structure.\n",
    "- **`pd.read_sql()`**: Reads data from SQL databases using a query and connection object.\n",
    "- **`.to_csv()`**: Saves a DataFrame to a CSV file with options like `index=False` and `sep`.\n",
    "- **`.to_excel()`**: Saves to an Excel file with `sheet_name` and `index` options.\n",
    "- **`.to_json()`**: Saves to a JSON file with `orient` parameter.\n",
    "- **`.to_pickle()`**: Saves data in Pandas' binary format for fast reading/writing.\n",
    "\n",
    "## Learning Objectives\n",
    "\n",
    "- Understand different file formats and their use cases.\n",
    "- Master common parameters for reading and writing functions.\n",
    "- Handle encoding issues (e.g., using `encoding='utf-8'`).\n",
    "- Set custom indices while reading data.\n",
    "- Save data efficiently for compatibility and performance."
   ]
  },
  {
   "cell_type": "code",
   "execution_count": 1,
   "id": "b376bef5",
   "metadata": {},
   "outputs": [
    {
     "name": "stdout",
     "output_type": "stream",
     "text": [
      "CSV DataFrame:\n",
      "  country_name                      indicator_name  1980  1981  1982  1983  \\\n",
      "0  Afghanistan  Annual GDP growth (percent change)   NaN   NaN   NaN   NaN   \n",
      "1      Albania  Annual GDP growth (percent change)   2.7   5.7   2.9   1.1   \n",
      "2      Algeria  Annual GDP growth (percent change)  -5.4   3.0   6.4   5.4   \n",
      "3      Andorra  Annual GDP growth (percent change)   NaN   NaN   NaN   NaN   \n",
      "4       Angola  Annual GDP growth (percent change)   2.4  -4.4   0.0   4.2   \n",
      "\n",
      "   1984  1985  1986  1987  ...  2015  2016  2017  2018  2019  2020  2021  \\\n",
      "0   NaN   NaN   NaN   NaN  ...   1.0   2.2   2.6   1.2   3.9  -2.4 -20.7   \n",
      "1   2.0  -1.5   5.6  -0.8  ...   2.2   3.3   3.8   4.0   2.1  -3.3   8.9   \n",
      "2   5.6   5.6  -0.2  -0.7  ...   3.7   3.2   1.4   1.2   1.0  -5.1   3.4   \n",
      "3   NaN   NaN   NaN   NaN  ...   1.4   3.7   0.3   1.6   2.0 -11.2   8.3   \n",
      "4   6.0   3.5   2.9   4.1  ...   0.9  -2.6  -0.2  -1.3  -0.7  -5.6   1.2   \n",
      "\n",
      "   2022  2023  2024  \n",
      "0 -21.0 -22.0 -23.0  \n",
      "1   4.8   3.6   3.3  \n",
      "2   3.2   3.8   3.1  \n",
      "3   8.8   2.1   1.5  \n",
      "4   3.0   1.3   3.3  \n",
      "\n",
      "[5 rows x 47 columns]\n",
      "\n",
      "Excel DataFrame (selected columns):\n",
      "   Unnamed: 0     name  age         city\n",
      "0           0    Alice   25     New York\n",
      "1           1      Bob   30  Los Angeles\n",
      "2           2  Charlie   35      Chicago\n",
      "\n",
      "JSON DataFrame:\n",
      "      name  age         city\n",
      "0    Alice   25     New York\n",
      "1      Bob   30  Los Angeles\n",
      "2  Charlie   35      Chicago\n"
     ]
    }
   ],
   "source": [
    "# 1. Reading Data from Different File Formats\n",
    "\n",
    "import pandas as pd\n",
    "\n",
    "# Reading a CSV file\n",
    "csv_df = pd.read_csv('../data/raw/world_gdp_data.csv', sep=',', header=0, index_col=None, encoding='utf-8')\n",
    "print(\"CSV DataFrame:\")\n",
    "print(csv_df.head())\n",
    "\n",
    "# Reading an Excel file\n",
    "excel_df = pd.read_excel('output.xlsx')\n",
    "print(\"\\nExcel DataFrame (selected columns):\")\n",
    "print(excel_df)\n",
    "\n",
    "# Reading a JSON file\n",
    "json_df = pd.read_json('output.json', orient='records', lines=True)\n",
    "print(\"\\nJSON DataFrame:\")\n",
    "print(json_df)\n",
    "\n",
    "# Reading from a SQL database (example with SQLite)\n",
    "import sqlite3\n",
    "# conn = sqlite3.connect('output.db')\n",
    "# query = \"SELECT * FROM employees\"\n",
    "# sql_df = pd.read_sql(query, conn)\n",
    "# print(\"\\nSQL DataFrame:\")\n",
    "# print(sql_df)"
   ]
  },
  {
   "cell_type": "markdown",
   "id": "e80bf764",
   "metadata": {},
   "source": [
    "### 2. Handling Encoding Issues\n",
    "\n",
    "**Explanation**: Use `encoding='utf-8'` for standard UTF-8 encoded files. For files with special characters, encodings like `latin1` or `iso-8859-1` may be needed. Check the file's encoding if errors occur."
   ]
  },
  {
   "cell_type": "code",
   "execution_count": 2,
   "id": "16a9a28f",
   "metadata": {},
   "outputs": [
    {
     "name": "stdout",
     "output_type": "stream",
     "text": [
      "CSV with Latin-1 encoding:\n",
      "  country_name                      indicator_name  1980  1981  1982  1983  \\\n",
      "0  Afghanistan  Annual GDP growth (percent change)   NaN   NaN   NaN   NaN   \n",
      "1      Albania  Annual GDP growth (percent change)   2.7   5.7   2.9   1.1   \n",
      "2      Algeria  Annual GDP growth (percent change)  -5.4   3.0   6.4   5.4   \n",
      "3      Andorra  Annual GDP growth (percent change)   NaN   NaN   NaN   NaN   \n",
      "4       Angola  Annual GDP growth (percent change)   2.4  -4.4   0.0   4.2   \n",
      "\n",
      "   1984  1985  1986  1987  ...  2015  2016  2017  2018  2019  2020  2021  \\\n",
      "0   NaN   NaN   NaN   NaN  ...   1.0   2.2   2.6   1.2   3.9  -2.4 -20.7   \n",
      "1   2.0  -1.5   5.6  -0.8  ...   2.2   3.3   3.8   4.0   2.1  -3.3   8.9   \n",
      "2   5.6   5.6  -0.2  -0.7  ...   3.7   3.2   1.4   1.2   1.0  -5.1   3.4   \n",
      "3   NaN   NaN   NaN   NaN  ...   1.4   3.7   0.3   1.6   2.0 -11.2   8.3   \n",
      "4   6.0   3.5   2.9   4.1  ...   0.9  -2.6  -0.2  -1.3  -0.7  -5.6   1.2   \n",
      "\n",
      "   2022  2023  2024  \n",
      "0 -21.0 -22.0 -23.0  \n",
      "1   4.8   3.6   3.3  \n",
      "2   3.2   3.8   3.1  \n",
      "3   8.8   2.1   1.5  \n",
      "4   3.0   1.3   3.3  \n",
      "\n",
      "[5 rows x 47 columns]\n"
     ]
    }
   ],
   "source": [
    "try:\n",
    "    df_latin = pd.read_csv('../data/raw/world_gdp_data.csv', encoding='latin1')\n",
    "    print(\"CSV with Latin-1 encoding:\")\n",
    "    print(df_latin.head())\n",
    "except UnicodeDecodeError:\n",
    "    print(\"Encoding error: Try specifying the correct encoding (e.g., 'utf-8', 'latin1').\")"
   ]
  },
  {
   "cell_type": "markdown",
   "id": "dac6ff3e",
   "metadata": {},
   "source": [
    "### 3. Setting a Custom Index While Reading"
   ]
  },
  {
   "cell_type": "code",
   "execution_count": 3,
   "id": "40db2c31",
   "metadata": {},
   "outputs": [
    {
     "name": "stdout",
     "output_type": "stream",
     "text": [
      "CSV with custom index:\n",
      "                                  indicator_name  1980  1981  1982  1983  \\\n",
      "country_name                                                               \n",
      "Afghanistan   Annual GDP growth (percent change)   NaN   NaN   NaN   NaN   \n",
      "Albania       Annual GDP growth (percent change)   2.7   5.7   2.9   1.1   \n",
      "Algeria       Annual GDP growth (percent change)  -5.4   3.0   6.4   5.4   \n",
      "Andorra       Annual GDP growth (percent change)   NaN   NaN   NaN   NaN   \n",
      "Angola        Annual GDP growth (percent change)   2.4  -4.4   0.0   4.2   \n",
      "\n",
      "              1984  1985  1986  1987  1988  ...  2015  2016  2017  2018  2019  \\\n",
      "country_name                                ...                                 \n",
      "Afghanistan    NaN   NaN   NaN   NaN   NaN  ...   1.0   2.2   2.6   1.2   3.9   \n",
      "Albania        2.0  -1.5   5.6  -0.8  -1.4  ...   2.2   3.3   3.8   4.0   2.1   \n",
      "Algeria        5.6   5.6  -0.2  -0.7  -1.9  ...   3.7   3.2   1.4   1.2   1.0   \n",
      "Andorra        NaN   NaN   NaN   NaN   NaN  ...   1.4   3.7   0.3   1.6   2.0   \n",
      "Angola         6.0   3.5   2.9   4.1   6.1  ...   0.9  -2.6  -0.2  -1.3  -0.7   \n",
      "\n",
      "              2020  2021  2022  2023  2024  \n",
      "country_name                                \n",
      "Afghanistan   -2.4 -20.7 -21.0 -22.0 -23.0  \n",
      "Albania       -3.3   8.9   4.8   3.6   3.3  \n",
      "Algeria       -5.1   3.4   3.2   3.8   3.1  \n",
      "Andorra      -11.2   8.3   8.8   2.1   1.5  \n",
      "Angola        -5.6   1.2   3.0   1.3   3.3  \n",
      "\n",
      "[5 rows x 46 columns]\n"
     ]
    }
   ],
   "source": [
    "# Reading a CSV and setting 'name' as the index\n",
    "csv_index_df = pd.read_csv('../data/raw/world_gdp_data.csv', index_col='country_name')\n",
    "print(\"CSV with custom index:\")\n",
    "print(csv_index_df.head())"
   ]
  },
  {
   "cell_type": "markdown",
   "id": "4bc7bdfe",
   "metadata": {},
   "source": [
    "### 4. Writing Data to Different File Formats\n",
    "\n",
    "**Explanation**:\n",
    "- `index=False` in `to_csv()` excludes the index from the output file.\n",
    "- `orient='records'` in `to_json()` creates a list of dictionaries, suitable for JSON.\n",
    "- `.to_pickle()` is efficient for large datasets as it uses a binary format."
   ]
  },
  {
   "cell_type": "code",
   "execution_count": 4,
   "id": "6843a279",
   "metadata": {},
   "outputs": [
    {
     "name": "stdout",
     "output_type": "stream",
     "text": [
      "Saved to output.csv\n",
      "Saved to output.xlsx\n",
      "Saved to output.json\n",
      "Saved to output.pkl\n"
     ]
    }
   ],
   "source": [
    "# Creating a sample DataFrame\n",
    "data = {\n",
    "    'name': ['Alice', 'Bob', 'Charlie'],\n",
    "    'age': [25, 30, 35],\n",
    "    'city': ['New York', 'Los Angeles', 'Chicago']\n",
    "}\n",
    "df = pd.DataFrame(data)\n",
    "\n",
    "# Writing to CSV\n",
    "df.to_csv('output.csv', index=False, sep=',')\n",
    "print(\"Saved to output.csv\")\n",
    "\n",
    "# Writing to Excel\n",
    "df.to_excel('output.xlsx', sheet_name='sheet_1', index=True)\n",
    "print(\"Saved to output.xlsx\")\n",
    "\n",
    "# Writing to JSON\n",
    "df.to_json('output.json', orient='records', lines=True)\n",
    "print(\"Saved to output.json\")\n",
    "\n",
    "# Writing to Pickle (binary format)\n",
    "df.to_pickle('output.pkl')\n",
    "print(\"Saved to output.pkl\")"
   ]
  },
  {
   "cell_type": "markdown",
   "id": "c95a2a7b",
   "metadata": {},
   "source": [
    "### 5. Verifying Saved Files"
   ]
  },
  {
   "cell_type": "code",
   "execution_count": 5,
   "id": "bd30dab0",
   "metadata": {},
   "outputs": [
    {
     "name": "stdout",
     "output_type": "stream",
     "text": [
      "\n",
      "Reading output.csv:\n",
      "      name  age         city\n",
      "0    Alice   25     New York\n",
      "1      Bob   30  Los Angeles\n",
      "2  Charlie   35      Chicago\n",
      "\n",
      "Reading output.pkl:\n",
      "      name  age         city\n",
      "0    Alice   25     New York\n",
      "1      Bob   30  Los Angeles\n",
      "2  Charlie   35      Chicago\n"
     ]
    }
   ],
   "source": [
    "# Reading back the saved files to verify\n",
    "csv_check = pd.read_csv('output.csv')\n",
    "print(\"\\nReading output.csv:\")\n",
    "print(csv_check)\n",
    "\n",
    "pkl_check = pd.read_pickle('output.pkl')\n",
    "print(\"\\nReading output.pkl:\")\n",
    "print(pkl_check)"
   ]
  },
  {
   "cell_type": "markdown",
   "id": "010af7bd",
   "metadata": {},
   "source": [
    "## Key Takeaways\n",
    "\n",
    "- **File Formats**:\n",
    "  - **CSV**: Lightweight, widely compatible, ideal for simple tabular data.\n",
    "  - **Excel**: Suitable for business users, supports multiple sheets.\n",
    "  - **JSON**: Great for web applications and hierarchical data.\n",
    "  - **Pickle**: Fast and efficient for Python/Pandas workflows, but not portable.\n",
    "  - **SQL**: Useful for querying large databases.\n",
    "- **Reading Parameters**: Use `sep`, `header`, `index_col`, and `encoding` to handle diverse file structures.\n",
    "- **Encoding Issues**: Specify `encoding` (e.g., `utf-8`, `latin1`) to avoid `UnicodeDecodeError`.\n",
    "- **Writing Options**: Control output with `index`, `sheet_name`, and `orient` for compatibility.\n",
    "- **Efficiency**: Use Pickle for large datasets to save/load quickly within Python."
   ]
  }
 ],
 "metadata": {
  "kernelspec": {
   "display_name": "Python 3",
   "language": "python",
   "name": "python3"
  },
  "language_info": {
   "codemirror_mode": {
    "name": "ipython",
    "version": 3
   },
   "file_extension": ".py",
   "mimetype": "text/x-python",
   "name": "python",
   "nbconvert_exporter": "python",
   "pygments_lexer": "ipython3",
   "version": "3.12.2"
  }
 },
 "nbformat": 4,
 "nbformat_minor": 5
}
